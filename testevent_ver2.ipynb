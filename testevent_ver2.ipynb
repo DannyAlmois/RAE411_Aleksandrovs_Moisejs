{
  "nbformat": 4,
  "nbformat_minor": 0,
  "metadata": {
    "colab": {
      "name": "Untitled0.ipynb",
      "provenance": [],
      "authorship_tag": "ABX9TyO2NpY6sglLjbEufwz/PfP5",
      "include_colab_link": true
    },
    "kernelspec": {
      "name": "python3",
      "display_name": "Python 3"
    }
  },
  "cells": [
    {
      "cell_type": "markdown",
      "metadata": {
        "id": "view-in-github",
        "colab_type": "text"
      },
      "source": [
        "<a href=\"https://colab.research.google.com/github/DannyAlmois/RAE411_Aleksandrovs_Moisejs/blob/master/testevent_ver2.ipynb\" target=\"_parent\"><img src=\"https://colab.research.google.com/assets/colab-badge.svg\" alt=\"Open In Colab\"/></a>"
      ]
    },
    {
      "cell_type": "code",
      "metadata": {
        "id": "BpOeAN3WZzah",
        "colab_type": "code",
        "colab": {
          "base_uri": "https://localhost:8080/",
          "height": 204
        },
        "outputId": "ee9e00fa-30a6-4bc8-9cbd-cf2440cb1bc2"
      },
      "source": [
        "import numpy as np\n",
        "import pandas as pd\n",
        "pd.set_option(\"display.precision\", 2)\n",
        "df = pd.read_csv('testevent.csv')\n",
        "df.head()"
      ],
      "execution_count": 4,
      "outputs": [
        {
          "output_type": "execute_result",
          "data": {
            "text/html": [
              "<div>\n",
              "<style scoped>\n",
              "    .dataframe tbody tr th:only-of-type {\n",
              "        vertical-align: middle;\n",
              "    }\n",
              "\n",
              "    .dataframe tbody tr th {\n",
              "        vertical-align: top;\n",
              "    }\n",
              "\n",
              "    .dataframe thead th {\n",
              "        text-align: right;\n",
              "    }\n",
              "</style>\n",
              "<table border=\"1\" class=\"dataframe\">\n",
              "  <thead>\n",
              "    <tr style=\"text-align: right;\">\n",
              "      <th></th>\n",
              "      <th>Level</th>\n",
              "      <th>Date and Time</th>\n",
              "      <th>Source</th>\n",
              "      <th>Event ID</th>\n",
              "      <th>Task Category</th>\n",
              "    </tr>\n",
              "  </thead>\n",
              "  <tbody>\n",
              "    <tr>\n",
              "      <th>Warning</th>\n",
              "      <td>9/16/2020 11:55:43 AM</td>\n",
              "      <td>ESENT</td>\n",
              "      <td>642</td>\n",
              "      <td>General</td>\n",
              "      <td>Catalog Database (5188,D,12) Catalog Database:...</td>\n",
              "    </tr>\n",
              "    <tr>\n",
              "      <th>Warning</th>\n",
              "      <td>9/16/2020 11:55:43 AM</td>\n",
              "      <td>ESENT</td>\n",
              "      <td>642</td>\n",
              "      <td>General</td>\n",
              "      <td>Catalog Database (5188,D,50) Catalog Database:...</td>\n",
              "    </tr>\n",
              "    <tr>\n",
              "      <th>Warning</th>\n",
              "      <td>9/16/2020 11:55:43 AM</td>\n",
              "      <td>ESENT</td>\n",
              "      <td>642</td>\n",
              "      <td>General</td>\n",
              "      <td>Catalog Database (5188,D,12) Catalog Database:...</td>\n",
              "    </tr>\n",
              "    <tr>\n",
              "      <th>Warning</th>\n",
              "      <td>9/16/2020 11:55:42 AM</td>\n",
              "      <td>ESENT</td>\n",
              "      <td>642</td>\n",
              "      <td>General</td>\n",
              "      <td>Catalog Database (5188,D,50) Catalog Database:...</td>\n",
              "    </tr>\n",
              "    <tr>\n",
              "      <th>Warning</th>\n",
              "      <td>9/16/2020 11:55:35 AM</td>\n",
              "      <td>ESENT</td>\n",
              "      <td>642</td>\n",
              "      <td>General</td>\n",
              "      <td>Catalog Database (5188,D,12) Catalog Database:...</td>\n",
              "    </tr>\n",
              "  </tbody>\n",
              "</table>\n",
              "</div>"
            ],
            "text/plain": [
              "                         Level  ...                                      Task Category\n",
              "Warning  9/16/2020 11:55:43 AM  ...  Catalog Database (5188,D,12) Catalog Database:...\n",
              "Warning  9/16/2020 11:55:43 AM  ...  Catalog Database (5188,D,50) Catalog Database:...\n",
              "Warning  9/16/2020 11:55:43 AM  ...  Catalog Database (5188,D,12) Catalog Database:...\n",
              "Warning  9/16/2020 11:55:42 AM  ...  Catalog Database (5188,D,50) Catalog Database:...\n",
              "Warning  9/16/2020 11:55:35 AM  ...  Catalog Database (5188,D,12) Catalog Database:...\n",
              "\n",
              "[5 rows x 5 columns]"
            ]
          },
          "metadata": {
            "tags": []
          },
          "execution_count": 4
        }
      ]
    }
  ]
}